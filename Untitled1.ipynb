{
 "cells": [
  {
   "cell_type": "code",
   "execution_count": 5,
   "metadata": {},
   "outputs": [],
   "source": [
    "import soundfile as sf\n",
    "import matplotlib.pyplot as plt\n",
    "\n",
    "f_name = 'sounddata_test.h'\n",
    "f = open(f_name, 'w')\n",
    "\n",
    "m68code = \"\"\n",
    "m68code += \"#define WAV_DATA_LENGTH \"+'128000'+\" \\r\\n\"\n",
    "m68code += \"uint8_t WAV_DATA[] = {\\r\\n\"\n",
    "\n",
    "for i in range(25):\n",
    "    for j in range(256):\n",
    "        m68code += (str(j) + ', ')*10\n",
    "    m68code += '\\n'\n",
    "    for j in range(256):\n",
    "        m68code += (str(255-j) + ', ')*10\n",
    "    m68code += '\\n'\n",
    "\n",
    "m68code+='0    \\r\\n};'\n",
    "f.write(m68code)\n",
    "f.close()"
   ]
  },
  {
   "cell_type": "code",
   "execution_count": null,
   "metadata": {},
   "outputs": [],
   "source": []
  }
 ],
 "metadata": {
  "kernelspec": {
   "display_name": "Python 3.8.2 64-bit",
   "language": "python",
   "name": "python38264bit69f23816def94e6e9627a0f7e039c118"
  },
  "language_info": {
   "codemirror_mode": {
    "name": "ipython",
    "version": 3
   },
   "file_extension": ".py",
   "mimetype": "text/x-python",
   "name": "python",
   "nbconvert_exporter": "python",
   "pygments_lexer": "ipython3",
   "version": "3.8.6"
  }
 },
 "nbformat": 4,
 "nbformat_minor": 4
}
